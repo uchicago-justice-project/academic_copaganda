{
 "cells": [
  {
   "cell_type": "code",
   "execution_count": 1,
   "metadata": {},
   "outputs": [],
   "source": [
    "import pandas as pd"
   ]
  },
  {
   "cell_type": "code",
   "execution_count": 2,
   "metadata": {},
   "outputs": [],
   "source": [
    "papers = pd.read_excel('policing_papers.xlsx', sheet_name='Papers_cleaned')"
   ]
  },
  {
   "cell_type": "code",
   "execution_count": 3,
   "metadata": {},
   "outputs": [
    {
     "data": {
      "text/html": [
       "<div>\n",
       "<style scoped>\n",
       "    .dataframe tbody tr th:only-of-type {\n",
       "        vertical-align: middle;\n",
       "    }\n",
       "\n",
       "    .dataframe tbody tr th {\n",
       "        vertical-align: top;\n",
       "    }\n",
       "\n",
       "    .dataframe thead th {\n",
       "        text-align: right;\n",
       "    }\n",
       "</style>\n",
       "<table border=\"1\" class=\"dataframe\">\n",
       "  <thead>\n",
       "    <tr style=\"text-align: right;\">\n",
       "      <th></th>\n",
       "      <th>First.Author.Last.First.MI.</th>\n",
       "      <th>Author.Affliation</th>\n",
       "      <th>Paper.Title</th>\n",
       "      <th>Study.Dataset.Name</th>\n",
       "      <th>Grantor</th>\n",
       "      <th>Grant.UID</th>\n",
       "      <th>Paper.DOI</th>\n",
       "      <th>Year.Published</th>\n",
       "      <th>Link.to.Paper</th>\n",
       "      <th>Journal</th>\n",
       "      <th>...</th>\n",
       "      <th>policedepiction</th>\n",
       "      <th>effects</th>\n",
       "      <th>Partners</th>\n",
       "      <th>totalpartnerorgs</th>\n",
       "      <th>modeling</th>\n",
       "      <th>peer_review</th>\n",
       "      <th>rq</th>\n",
       "      <th>rq_type</th>\n",
       "      <th>AC</th>\n",
       "      <th>AC_Type</th>\n",
       "    </tr>\n",
       "  </thead>\n",
       "  <tbody>\n",
       "    <tr>\n",
       "      <th>0</th>\n",
       "      <td>Gau, Jacinta M.</td>\n",
       "      <td>University of Central Florida</td>\n",
       "      <td>\"Just because Somebody Is in a White Jacket an...</td>\n",
       "      <td>NaN</td>\n",
       "      <td>NIJ</td>\n",
       "      <td>6b04e6bc-3a77-45a6-b164-a4714a178f5e</td>\n",
       "      <td>10.1007/s12103-020-09569-7</td>\n",
       "      <td>2021</td>\n",
       "      <td>https://www-webofscience-com.proxy.uchicago.ed...</td>\n",
       "      <td>American Journal of Criminal Justice: The Jour...</td>\n",
       "      <td>...</td>\n",
       "      <td>applied</td>\n",
       "      <td>Descriptive</td>\n",
       "      <td>NaN</td>\n",
       "      <td>NaN</td>\n",
       "      <td>Qualitative</td>\n",
       "      <td>1</td>\n",
       "      <td>How do police arrest occupational criminals?</td>\n",
       "      <td>Police behavior</td>\n",
       "      <td>0</td>\n",
       "      <td>NaN</td>\n",
       "    </tr>\n",
       "    <tr>\n",
       "      <th>1</th>\n",
       "      <td>O'Neal, Eryn</td>\n",
       "      <td>Sam Houston State University</td>\n",
       "      <td>\"Most [False Reports] Involve Teens\": Officer ...</td>\n",
       "      <td>NaN</td>\n",
       "      <td>NIJ</td>\n",
       "      <td>25a590cd-d37d-489a-9b64-40898c021b08</td>\n",
       "      <td>10.1177/1077801219828537</td>\n",
       "      <td>2020</td>\n",
       "      <td>https://www-webofscience-com.proxy.uchicago.ed...</td>\n",
       "      <td>Violence Against Women</td>\n",
       "      <td>...</td>\n",
       "      <td>negative</td>\n",
       "      <td>Descriptive</td>\n",
       "      <td>NaN</td>\n",
       "      <td>NaN</td>\n",
       "      <td>Descriptive</td>\n",
       "      <td>1</td>\n",
       "      <td>How do police perceive or teenage sexual assau...</td>\n",
       "      <td>Police thought</td>\n",
       "      <td>1</td>\n",
       "      <td>Police opinion as public policy</td>\n",
       "    </tr>\n",
       "    <tr>\n",
       "      <th>2</th>\n",
       "      <td>Donner, Christopher M.</td>\n",
       "      <td>Loyola University Chicago</td>\n",
       "      <td>\"The best predictor of future behavior is ...\"...</td>\n",
       "      <td>NaN</td>\n",
       "      <td>NIJ</td>\n",
       "      <td>30789ba0-d541-4b7d-9540-2393160ca592</td>\n",
       "      <td>10.1080/0735648X.2018.1537882</td>\n",
       "      <td>2019</td>\n",
       "      <td>https://www-webofscience-com.proxy.uchicago.ed...</td>\n",
       "      <td>Journal of Crime and Justice</td>\n",
       "      <td>...</td>\n",
       "      <td>negative</td>\n",
       "      <td>Negative</td>\n",
       "      <td>NaN</td>\n",
       "      <td>NaN</td>\n",
       "      <td>Simple Regression</td>\n",
       "      <td>1</td>\n",
       "      <td>Does past misconduct affect officer perception...</td>\n",
       "      <td>Police thought</td>\n",
       "      <td>0</td>\n",
       "      <td>NaN</td>\n",
       "    </tr>\n",
       "    <tr>\n",
       "      <th>3</th>\n",
       "      <td>O'Neal, Eryn</td>\n",
       "      <td>Sam Houston State University</td>\n",
       "      <td>\"Victim is Not Credible\": The Influence of Rap...</td>\n",
       "      <td>NaN</td>\n",
       "      <td>NIJ</td>\n",
       "      <td>25a590cd-d37d-489a-9b64-40898c021b08</td>\n",
       "      <td>10.1080/07418825.2017.1406977</td>\n",
       "      <td>2019</td>\n",
       "      <td>https://www-webofscience-com.proxy.uchicago.ed...</td>\n",
       "      <td>Justice Quarterly</td>\n",
       "      <td>...</td>\n",
       "      <td>negative</td>\n",
       "      <td>Descriptive</td>\n",
       "      <td>NaN</td>\n",
       "      <td>NaN</td>\n",
       "      <td>Descriptive</td>\n",
       "      <td>1</td>\n",
       "      <td>How do police perceive of rape victims?</td>\n",
       "      <td>Police thought</td>\n",
       "      <td>0</td>\n",
       "      <td>NaN</td>\n",
       "    </tr>\n",
       "    <tr>\n",
       "      <th>4</th>\n",
       "      <td>Schuck, Amie M.</td>\n",
       "      <td>University of Illinois Chicago</td>\n",
       "      <td>A Longitudinal Study of the Effects of Academy...</td>\n",
       "      <td>NaN</td>\n",
       "      <td>NIJ</td>\n",
       "      <td>30789ba0-d541-4b7d-9540-2393160ca592</td>\n",
       "      <td>10.1177/10986111211029958</td>\n",
       "      <td>2021</td>\n",
       "      <td>https://www-webofscience-com.proxy.uchicago.ed...</td>\n",
       "      <td>Police Quarterly</td>\n",
       "      <td>...</td>\n",
       "      <td>negative</td>\n",
       "      <td>Negative</td>\n",
       "      <td>NaN</td>\n",
       "      <td>NaN</td>\n",
       "      <td>Simple Regression</td>\n",
       "      <td>1</td>\n",
       "      <td>How does police academy training affect office...</td>\n",
       "      <td>Police training evaluation</td>\n",
       "      <td>0</td>\n",
       "      <td>NaN</td>\n",
       "    </tr>\n",
       "  </tbody>\n",
       "</table>\n",
       "<p>5 rows × 30 columns</p>\n",
       "</div>"
      ],
      "text/plain": [
       "  First.Author.Last.First.MI.               Author.Affliation  \\\n",
       "0             Gau, Jacinta M.   University of Central Florida   \n",
       "1                O'Neal, Eryn    Sam Houston State University   \n",
       "2      Donner, Christopher M.       Loyola University Chicago   \n",
       "3                O'Neal, Eryn    Sam Houston State University   \n",
       "4             Schuck, Amie M.  University of Illinois Chicago   \n",
       "\n",
       "                                         Paper.Title Study.Dataset.Name  \\\n",
       "0  \"Just because Somebody Is in a White Jacket an...                NaN   \n",
       "1  \"Most [False Reports] Involve Teens\": Officer ...                NaN   \n",
       "2  \"The best predictor of future behavior is ...\"...                NaN   \n",
       "3  \"Victim is Not Credible\": The Influence of Rap...                NaN   \n",
       "4  A Longitudinal Study of the Effects of Academy...                NaN   \n",
       "\n",
       "  Grantor                             Grant.UID  \\\n",
       "0     NIJ  6b04e6bc-3a77-45a6-b164-a4714a178f5e   \n",
       "1     NIJ  25a590cd-d37d-489a-9b64-40898c021b08   \n",
       "2     NIJ  30789ba0-d541-4b7d-9540-2393160ca592   \n",
       "3     NIJ  25a590cd-d37d-489a-9b64-40898c021b08   \n",
       "4     NIJ  30789ba0-d541-4b7d-9540-2393160ca592   \n",
       "\n",
       "                       Paper.DOI  Year.Published  \\\n",
       "0     10.1007/s12103-020-09569-7            2021   \n",
       "1       10.1177/1077801219828537            2020   \n",
       "2  10.1080/0735648X.2018.1537882            2019   \n",
       "3  10.1080/07418825.2017.1406977            2019   \n",
       "4      10.1177/10986111211029958            2021   \n",
       "\n",
       "                                       Link.to.Paper  \\\n",
       "0  https://www-webofscience-com.proxy.uchicago.ed...   \n",
       "1  https://www-webofscience-com.proxy.uchicago.ed...   \n",
       "2  https://www-webofscience-com.proxy.uchicago.ed...   \n",
       "3  https://www-webofscience-com.proxy.uchicago.ed...   \n",
       "4  https://www-webofscience-com.proxy.uchicago.ed...   \n",
       "\n",
       "                                             Journal  ... policedepiction  \\\n",
       "0  American Journal of Criminal Justice: The Jour...  ...         applied   \n",
       "1                             Violence Against Women  ...        negative   \n",
       "2                       Journal of Crime and Justice  ...        negative   \n",
       "3                                  Justice Quarterly  ...        negative   \n",
       "4                                   Police Quarterly  ...        negative   \n",
       "\n",
       "       effects Partners totalpartnerorgs           modeling peer_review  \\\n",
       "0  Descriptive      NaN              NaN        Qualitative           1   \n",
       "1  Descriptive      NaN              NaN        Descriptive           1   \n",
       "2     Negative      NaN              NaN  Simple Regression           1   \n",
       "3  Descriptive      NaN              NaN        Descriptive           1   \n",
       "4     Negative      NaN              NaN  Simple Regression           1   \n",
       "\n",
       "                                                  rq  \\\n",
       "0       How do police arrest occupational criminals?   \n",
       "1  How do police perceive or teenage sexual assau...   \n",
       "2  Does past misconduct affect officer perception...   \n",
       "3            How do police perceive of rape victims?   \n",
       "4  How does police academy training affect office...   \n",
       "\n",
       "                      rq_type AC                          AC_Type  \n",
       "0             Police behavior  0                              NaN  \n",
       "1              Police thought  1  Police opinion as public policy  \n",
       "2              Police thought  0                              NaN  \n",
       "3              Police thought  0                              NaN  \n",
       "4  Police training evaluation  0                              NaN  \n",
       "\n",
       "[5 rows x 30 columns]"
      ]
     },
     "execution_count": 3,
     "metadata": {},
     "output_type": "execute_result"
    }
   ],
   "source": [
    "papers.head()"
   ]
  },
  {
   "cell_type": "code",
   "execution_count": 4,
   "metadata": {},
   "outputs": [
    {
     "data": {
      "text/plain": [
       "AC\n",
       "0    113\n",
       "1     30\n",
       "Name: count, dtype: int64"
      ]
     },
     "execution_count": 4,
     "metadata": {},
     "output_type": "execute_result"
    }
   ],
   "source": [
    "papers['AC'].value_counts()"
   ]
  },
  {
   "cell_type": "code",
   "execution_count": 5,
   "metadata": {},
   "outputs": [
    {
     "data": {
      "text/html": [
       "<div>\n",
       "<style scoped>\n",
       "    .dataframe tbody tr th:only-of-type {\n",
       "        vertical-align: middle;\n",
       "    }\n",
       "\n",
       "    .dataframe tbody tr th {\n",
       "        vertical-align: top;\n",
       "    }\n",
       "\n",
       "    .dataframe thead th {\n",
       "        text-align: right;\n",
       "    }\n",
       "</style>\n",
       "<table border=\"1\" class=\"dataframe\">\n",
       "  <thead>\n",
       "    <tr style=\"text-align: right;\">\n",
       "      <th></th>\n",
       "      <th>peer_review</th>\n",
       "    </tr>\n",
       "    <tr>\n",
       "      <th>AC</th>\n",
       "      <th></th>\n",
       "    </tr>\n",
       "  </thead>\n",
       "  <tbody>\n",
       "    <tr>\n",
       "      <th>0</th>\n",
       "      <td>74</td>\n",
       "    </tr>\n",
       "    <tr>\n",
       "      <th>1</th>\n",
       "      <td>19</td>\n",
       "    </tr>\n",
       "  </tbody>\n",
       "</table>\n",
       "</div>"
      ],
      "text/plain": [
       "    peer_review\n",
       "AC             \n",
       "0            74\n",
       "1            19"
      ]
     },
     "execution_count": 5,
     "metadata": {},
     "output_type": "execute_result"
    }
   ],
   "source": [
    "papers.groupby('AC')[['peer_review']].agg('sum')"
   ]
  },
  {
   "cell_type": "code",
   "execution_count": 6,
   "metadata": {},
   "outputs": [
    {
     "data": {
      "text/plain": [
       "AC  modeling         \n",
       "0   Descriptive          39\n",
       "    Simple Regression    34\n",
       "    RCT                  12\n",
       "    Qualitative          11\n",
       "    NaN                   8\n",
       "    Quasi-Experiment      7\n",
       "    Mixed method          2\n",
       "1   Descriptive          20\n",
       "    Simple Regression     6\n",
       "    Qualitative           2\n",
       "    RCT                   1\n",
       "    NaN                   1\n",
       "Name: count, dtype: int64"
      ]
     },
     "execution_count": 6,
     "metadata": {},
     "output_type": "execute_result"
    }
   ],
   "source": [
    "papers.groupby('AC').modeling.value_counts(dropna=False)"
   ]
  },
  {
   "cell_type": "code",
   "execution_count": 7,
   "metadata": {},
   "outputs": [
    {
     "data": {
      "text/plain": [
       "AC  effects                  \n",
       "0   Descriptive                  44\n",
       "    Positive                     26\n",
       "    Negative                     12\n",
       "    Mixed                        10\n",
       "    Null                          9\n",
       "    Applied                       8\n",
       "    NaN                           4\n",
       "1   Descriptive                  15\n",
       "    Positive                      8\n",
       "    Mixed                         4\n",
       "    Applied                       2\n",
       "    Mixed but mostly Positive     1\n",
       "Name: count, dtype: int64"
      ]
     },
     "execution_count": 7,
     "metadata": {},
     "output_type": "execute_result"
    }
   ],
   "source": [
    "papers.groupby('AC').effects.value_counts(dropna=False)"
   ]
  },
  {
   "cell_type": "code",
   "execution_count": 8,
   "metadata": {},
   "outputs": [
    {
     "data": {
      "text/plain": [
       "AC  Grantor  \n",
       "0   NIJ          72\n",
       "    Arnold       36\n",
       "    MacArthur     5\n",
       "1   NIJ          17\n",
       "    Arnold       11\n",
       "    MacArthur     2\n",
       "Name: count, dtype: int64"
      ]
     },
     "execution_count": 8,
     "metadata": {},
     "output_type": "execute_result"
    }
   ],
   "source": [
    "papers.groupby('AC').Grantor.value_counts(dropna=False)"
   ]
  },
  {
   "cell_type": "code",
   "execution_count": 9,
   "metadata": {},
   "outputs": [],
   "source": [
    "altmetric = pd.read_excel('policing_papers.xlsx', sheet_name='AltmetricCitations')"
   ]
  },
  {
   "cell_type": "code",
   "execution_count": 10,
   "metadata": {},
   "outputs": [],
   "source": [
    "mentions_by_paper = altmetric.pivot_table(index='cited_doi', values='cited_altmetric_id', columns='citation_medium', aggfunc='count').fillna(0).reset_index()\n",
    "mentions_by_paper['all_news'] = mentions_by_paper.loc[:, ['blogs', 'policy', 'news', 'reddit']].sum(axis=1)"
   ]
  },
  {
   "cell_type": "code",
   "execution_count": 11,
   "metadata": {},
   "outputs": [],
   "source": [
    "papers['doi_merge'] = papers['Paper.DOI'].str.lower()\n",
    "mentions_by_paper['doi_merge'] = mentions_by_paper['cited_doi'].str.lower()"
   ]
  },
  {
   "cell_type": "code",
   "execution_count": 12,
   "metadata": {},
   "outputs": [],
   "source": [
    "papers_with_mentions = papers.merge(mentions_by_paper, on='doi_merge', how='left')"
   ]
  },
  {
   "cell_type": "code",
   "execution_count": 13,
   "metadata": {},
   "outputs": [],
   "source": [
    "papers_with_mentions['all_news'] = papers_with_mentions.all_news.fillna(0)"
   ]
  },
  {
   "cell_type": "code",
   "execution_count": 14,
   "metadata": {},
   "outputs": [],
   "source": [
    "peer_reviewed = papers_with_mentions.doi_merge.notna()\n",
    "post_floyd = papers_with_mentions['Year.Published'] > 2020"
   ]
  },
  {
   "cell_type": "code",
   "execution_count": 15,
   "metadata": {},
   "outputs": [
    {
     "data": {
      "text/html": [
       "<div>\n",
       "<style scoped>\n",
       "    .dataframe tbody tr th:only-of-type {\n",
       "        vertical-align: middle;\n",
       "    }\n",
       "\n",
       "    .dataframe tbody tr th {\n",
       "        vertical-align: top;\n",
       "    }\n",
       "\n",
       "    .dataframe thead th {\n",
       "        text-align: right;\n",
       "    }\n",
       "</style>\n",
       "<table border=\"1\" class=\"dataframe\">\n",
       "  <thead>\n",
       "    <tr style=\"text-align: right;\">\n",
       "      <th></th>\n",
       "      <th>mean</th>\n",
       "      <th>median</th>\n",
       "      <th>std</th>\n",
       "      <th>max</th>\n",
       "      <th>min</th>\n",
       "      <th>count</th>\n",
       "    </tr>\n",
       "    <tr>\n",
       "      <th>AC</th>\n",
       "      <th></th>\n",
       "      <th></th>\n",
       "      <th></th>\n",
       "      <th></th>\n",
       "      <th></th>\n",
       "      <th></th>\n",
       "    </tr>\n",
       "  </thead>\n",
       "  <tbody>\n",
       "    <tr>\n",
       "      <th>0</th>\n",
       "      <td>4.608108</td>\n",
       "      <td>0.0</td>\n",
       "      <td>16.152372</td>\n",
       "      <td>108.0</td>\n",
       "      <td>0.0</td>\n",
       "      <td>74</td>\n",
       "    </tr>\n",
       "    <tr>\n",
       "      <th>1</th>\n",
       "      <td>3.277778</td>\n",
       "      <td>0.0</td>\n",
       "      <td>10.051664</td>\n",
       "      <td>41.0</td>\n",
       "      <td>0.0</td>\n",
       "      <td>18</td>\n",
       "    </tr>\n",
       "  </tbody>\n",
       "</table>\n",
       "</div>"
      ],
      "text/plain": [
       "        mean  median        std    max  min  count\n",
       "AC                                                \n",
       "0   4.608108     0.0  16.152372  108.0  0.0     74\n",
       "1   3.277778     0.0  10.051664   41.0  0.0     18"
      ]
     },
     "execution_count": 15,
     "metadata": {},
     "output_type": "execute_result"
    }
   ],
   "source": [
    "papers_with_mentions[peer_reviewed].groupby('AC').all_news.agg(['mean', 'median', 'std', 'max', 'min', 'count'])"
   ]
  },
  {
   "cell_type": "code",
   "execution_count": 16,
   "metadata": {},
   "outputs": [
    {
     "data": {
      "text/plain": [
       "AC\n",
       "0    29.0\n",
       "1    56.0\n",
       "Name: all_news, dtype: float64"
      ]
     },
     "execution_count": 16,
     "metadata": {},
     "output_type": "execute_result"
    }
   ],
   "source": [
    "papers_with_mentions[peer_reviewed&post_floyd].groupby('AC')['all_news'].agg('sum')"
   ]
  },
  {
   "cell_type": "code",
   "execution_count": 17,
   "metadata": {},
   "outputs": [
    {
     "data": {
      "text/plain": [
       "mean        4.347826\n",
       "median      0.000000\n",
       "std        15.114533\n",
       "max       108.000000\n",
       "min         0.000000\n",
       "count      92.000000\n",
       "Name: all_news, dtype: float64"
      ]
     },
     "execution_count": 17,
     "metadata": {},
     "output_type": "execute_result"
    }
   ],
   "source": [
    "papers_with_mentions[papers_with_mentions.doi_merge.notna()].all_news.agg(['mean', 'median', 'std', 'max', 'min', 'count'])"
   ]
  }
 ],
 "metadata": {
  "kernelspec": {
   "display_name": "Python 3",
   "language": "python",
   "name": "python3"
  },
  "language_info": {
   "codemirror_mode": {
    "name": "ipython",
    "version": 3
   },
   "file_extension": ".py",
   "mimetype": "text/x-python",
   "name": "python",
   "nbconvert_exporter": "python",
   "pygments_lexer": "ipython3",
   "version": "3.11.9"
  }
 },
 "nbformat": 4,
 "nbformat_minor": 2
}
